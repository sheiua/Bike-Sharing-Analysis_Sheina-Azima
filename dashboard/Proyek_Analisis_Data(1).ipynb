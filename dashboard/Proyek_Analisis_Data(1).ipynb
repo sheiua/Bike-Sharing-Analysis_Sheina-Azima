{
 "cells": [
  {
   "cell_type": "markdown",
   "metadata": {
    "id": "H9wADwK78DCz"
   },
   "source": [
    "# Proyek Analisis Data: Air Quality\n",
    "- **Nama:** Sheina Azima\n",
    "- **Email:** sheizana09@gmail.com\n",
    "- **ID Dicoding:** M248B4KX413"
   ]
  },
  {
   "cell_type": "markdown",
   "metadata": {
    "id": "eE0raob58DC0"
   },
   "source": [
    "## Menentukan Pertanyaan Bisnis"
   ]
  },
  {
   "cell_type": "markdown",
   "metadata": {
    "id": "GmQeQ5YF8DC0"
   },
   "source": [
    "- Is there a difference in the number of bicycles used based on environmental and seasonal factors?\n",
    "- Is there a variation in the number of rentals per season?"
   ]
  },
  {
   "cell_type": "markdown",
   "metadata": {
    "id": "H-z4QGlO8DC1"
   },
   "source": [
    "## Import Semua Packages/Library yang Digunakan"
   ]
  },
  {
   "cell_type": "code",
   "execution_count": 136,
   "metadata": {
    "id": "teJf431X6V5q"
   },
   "outputs": [],
   "source": [
    "# 1. Import Packages/Library yang Digunakan\n",
    "import pandas as pd\n",
    "import plotly.express as px\n",
    "import plotly.io as pio\n",
    "import streamlit as st\n",
    "import matplotlib.pyplot as plt  \n",
    "import seaborn as sns \n",
    "import os\n",
    "from sklearn.cluster import KMeans\n",
    "from sklearn.preprocessing import StandardScaler\n",
    "\n",
    "# Set template Plotly\n",
    "pio.templates.default = \"plotly_white\"\n"
   ]
  },
  {
   "cell_type": "markdown",
   "metadata": {
    "id": "h_Sh51Xy8DC1"
   },
   "source": [
    "## Data Wrangling"
   ]
  },
  {
   "cell_type": "markdown",
   "metadata": {
    "id": "sXU2GBYu8DC1"
   },
   "source": [
    "### Gathering Data"
   ]
  },
  {
   "cell_type": "code",
   "execution_count": 137,
   "metadata": {
    "id": "zjCBk1BI8DC1"
   },
   "outputs": [
    {
     "name": "stderr",
     "output_type": "stream",
     "text": [
      "2024-10-05 22:11:51.711 Thread 'MainThread': missing ScriptRunContext! This warning can be ignored when running in bare mode.\n",
      "2024-10-05 22:11:51.711 Thread 'MainThread': missing ScriptRunContext! This warning can be ignored when running in bare mode.\n",
      "2024-10-05 22:11:51.711 Thread 'MainThread': missing ScriptRunContext! This warning can be ignored when running in bare mode.\n",
      "2024-10-05 22:11:51.727 Thread 'MainThread': missing ScriptRunContext! This warning can be ignored when running in bare mode.\n",
      "2024-10-05 22:11:51.727 Thread 'MainThread': missing ScriptRunContext! This warning can be ignored when running in bare mode.\n",
      "2024-10-05 22:11:51.730 Thread 'MainThread': missing ScriptRunContext! This warning can be ignored when running in bare mode.\n"
     ]
    }
   ],
   "source": [
    "file_path_day = os.path.join(\"C:\", \"Users\", \"User\", \"Downloads\", \"Bike Sharing Analysis\", \"day.csv\")\n",
    "file_path_hour = os.path.join(\"C:\", \"Users\", \"User\", \"Downloads\", \"Bike Sharing Analysis\", \"hour.csv\")\n",
    "\n",
    "# Membaca file day.csv\n",
    "try:\n",
    "    data_day = pd.read_csv(file_path_day)\n",
    "    st.write(\"Data hari berhasil dimuat.\")\n",
    "except FileNotFoundError:\n",
    "    st.error(f\"File {file_path_day} tidak ditemukan. Pastikan jalur file sudah benar.\")\n",
    "    st.stop()\n",
    "except pd.errors.EmptyDataError:\n",
    "    st.error(\"File tidak memiliki data. Periksa file CSV.\")\n",
    "    st.stop()\n",
    "except pd.errors.ParserError:\n",
    "    st.error(\"Kesalahan saat mem-parsing file CSV. Pastikan format file benar.\")\n",
    "    st.stop()\n",
    "\n",
    "# Membaca file hour.csv\n",
    "try:\n",
    "    data_hour = pd.read_csv(file_path_hour)\n",
    "    st.write(\"Data jam berhasil dimuat.\")\n",
    "except FileNotFoundError:\n",
    "    st.error(f\"File {file_path_hour} tidak ditemukan. Pastikan jalur file sudah benar.\")\n",
    "    st.stop()\n",
    "except pd.errors.EmptyDataError:\n",
    "    st.error(\"File tidak memiliki data. Periksa file CSV.\")\n",
    "    st.stop()\n",
    "except pd.errors.ParserError:\n",
    "    st.error(\"Kesalahan saat mem-parsing file CSV. Pastikan format file benar.\")\n",
    "    st.stop()\n"
   ]
  },
  {
   "cell_type": "markdown",
   "metadata": {
    "id": "MMi6xGaDkbCi"
   },
   "source": [
    "**Insight:**\n",
    "- xxx\n",
    "- xxx"
   ]
  },
  {
   "cell_type": "markdown",
   "metadata": {
    "id": "FHSiqaZp8DC1"
   },
   "source": [
    "### Assessing Data"
   ]
  },
  {
   "cell_type": "code",
   "execution_count": 138,
   "metadata": {
    "id": "ax-3tEjc9Cj1"
   },
   "outputs": [
    {
     "name": "stderr",
     "output_type": "stream",
     "text": [
      "2024-10-05 22:11:51.768 Thread 'MainThread': missing ScriptRunContext! This warning can be ignored when running in bare mode.\n",
      "2024-10-05 22:11:51.768 Thread 'MainThread': missing ScriptRunContext! This warning can be ignored when running in bare mode.\n"
     ]
    }
   ],
   "source": [
    "# 3. Assessing Data\n",
    "# Menggabungkan data dari kedua file\n",
    "try:\n",
    "    data = pd.concat([data_day, data_hour], ignore_index=True)  # data sudah didefinisikan di sini\n",
    "\n",
    "    # Mengubah kolom 'date' menjadi datetime jika ada\n",
    "    if 'date' in data.columns:\n",
    "        data['date'] = pd.to_datetime(data['date'], errors='coerce')\n",
    "        data.dropna(subset=['date'], inplace=True)\n",
    "\n",
    "    # Pastikan kolom numerik lainnya tidak mengandung string\n",
    "    numeric_columns = data.select_dtypes(include=['object']).columns\n",
    "    for col in numeric_columns:\n",
    "        try:\n",
    "            data[col] = pd.to_numeric(data[col], errors='coerce')  \n",
    "        except Exception as e:\n",
    "            st.error(f\"Kesalahan saat mengonversi kolom {col}: {e}\")\n",
    "\n",
    "    # Tampilkan informasi dan beberapa baris data\n",
    "    st.write(\"Informasi DataFrame:\")\n",
    "    st.write(data.info())\n",
    "    st.write(\"Beberapa Baris dari Data:\")\n",
    "    st.write(data.head())\n",
    "\n",
    "except Exception as e:\n",
    "    st.error(f\"Terjadi kesalahan: {e}\")\n"
   ]
  },
  {
   "cell_type": "markdown",
   "metadata": {
    "id": "7dtxhAPrkhPL"
   },
   "source": [
    "**Insight:**\n",
    "- xxx\n",
    "- xxx"
   ]
  },
  {
   "cell_type": "markdown",
   "metadata": {
    "id": "EhN5R4hr8DC1"
   },
   "source": [
    "### Cleaning Data"
   ]
  },
  {
   "cell_type": "code",
   "execution_count": 139,
   "metadata": {
    "id": "jVnYpprE9Evz"
   },
   "outputs": [
    {
     "name": "stderr",
     "output_type": "stream",
     "text": [
      "2024-10-05 22:11:51.802 Thread 'MainThread': missing ScriptRunContext! This warning can be ignored when running in bare mode.\n",
      "2024-10-05 22:11:51.802 Thread 'MainThread': missing ScriptRunContext! This warning can be ignored when running in bare mode.\n"
     ]
    }
   ],
   "source": [
    "# 4. Cleaning Data\n",
    "\n",
    "try:\n",
    "    # Menghapus baris dengan nilai yang hilang dan duplikat\n",
    "    data_cleaned = data.dropna().drop_duplicates()\n",
    "\n",
    "    # Korelasi variabel numerik\n",
    "    if not data_cleaned.select_dtypes(include=['number']).empty:\n",
    "        corr_matrix = data_cleaned.corr()\n",
    "        st.write(\"Korelasi Antar Variabel Numerik:\")\n",
    "        plt.figure(figsize=(10, 8))\n",
    "        sns.heatmap(corr_matrix, annot=True, cmap='coolwarm', linewidths=0.5)\n",
    "        plt.title('Korelasi Antar Variabel Numerik')\n",
    "        st.pyplot()\n",
    "    else:\n",
    "        st.error(\"Data bersih tidak memiliki kolom numerik untuk menghitung korelasi.\")\n",
    "\n",
    "    st.write(\"Data setelah pembersihan:\")\n",
    "    st.write(data_cleaned.head())  # Tampilkan beberapa baris dari data yang sudah dibersihkan\n",
    "\n",
    "except Exception as e:\n",
    "    st.error(f\"Terjadi kesalahan saat membersihkan data: {e}\")\n",
    "\n"
   ]
  },
  {
   "cell_type": "markdown",
   "metadata": {
    "id": "Q_5ejIqckiSP"
   },
   "source": [
    "**Insight:**\n",
    "- xxx\n",
    "- xxx"
   ]
  },
  {
   "cell_type": "markdown",
   "metadata": {
    "id": "gp-Y6wU38DC1"
   },
   "source": [
    "## Exploratory Data Analysis (EDA)"
   ]
  },
  {
   "cell_type": "markdown",
   "metadata": {
    "id": "MW7WF2kr8DC1"
   },
   "source": [
    "### Explore ..."
   ]
  },
  {
   "cell_type": "code",
   "execution_count": 140,
   "metadata": {
    "id": "e9CQCZjk8DC2"
   },
   "outputs": [
    {
     "name": "stderr",
     "output_type": "stream",
     "text": [
      "2024-10-05 22:11:51.846 Thread 'MainThread': missing ScriptRunContext! This warning can be ignored when running in bare mode.\n",
      "2024-10-05 22:11:51.846 Thread 'MainThread': missing ScriptRunContext! This warning can be ignored when running in bare mode.\n",
      "2024-10-05 22:11:51.846 Thread 'MainThread': missing ScriptRunContext! This warning can be ignored when running in bare mode.\n",
      "2024-10-05 22:11:51.846 Thread 'MainThread': missing ScriptRunContext! This warning can be ignored when running in bare mode.\n",
      "2024-10-05 22:11:51.861 Thread 'MainThread': missing ScriptRunContext! This warning can be ignored when running in bare mode.\n",
      "2024-10-05 22:11:51.861 Thread 'MainThread': missing ScriptRunContext! This warning can be ignored when running in bare mode.\n"
     ]
    }
   ],
   "source": [
    "# 5. Exploratory Data Analysis (EDA)\n",
    "\n",
    "try:\n",
    "    # Menampilkan informasi dasar dari data yang sudah dibersihkan\n",
    "    st.write(\"Informasi DataFrame yang sudah dibersihkan:\")\n",
    "    st.write(data_cleaned.info())  # Pastikan 'data_cleaned' sudah terdefinisi di sini\n",
    "\n",
    "    # Menampilkan beberapa baris dari data yang sudah dibersihkan\n",
    "    st.write(\"Beberapa Baris dari Data yang Sudah Dibersihkan:\")\n",
    "    st.write(data_cleaned.head())\n",
    "\n",
    "    # Analisis distribusi pengguna kasual dan terdaftar\n",
    "    st.subheader(\"Distribusi Pengguna Kasual dan Terdaftar\")\n",
    "    plt.figure(figsize=(10, 5))\n",
    "    sns.histplot(data_cleaned['casual'], bins=30, kde=True, color='blue', label='Kasual', alpha=0.5)\n",
    "    sns.histplot(data_cleaned['registered'], bins=30, kde=True, color='orange', label='Terdaftar', alpha=0.5)\n",
    "    plt.title(\"Distribusi Pengguna Kasual dan Terdaftar\")\n",
    "    plt.xlabel(\"Jumlah Pengguna\")\n",
    "    plt.ylabel(\"Frekuensi\")\n",
    "    plt.legend()\n",
    "    st.pyplot()\n",
    "\n",
    "    # Analisis perbandingan penggunaan sepeda berdasarkan musim\n",
    "    st.subheader(\"Penggunaan Sepeda berdasarkan Musim\")\n",
    "    season_usage = data_cleaned.groupby('season')['cnt'].sum().reset_index()\n",
    "    fig = px.bar(season_usage, x='season', y='cnt', title='Total Penggunaan Sepeda per Musim', labels={'season': 'Musim', 'cnt': 'Total Pengguna'})\n",
    "    st.plotly_chart(fig)\n",
    "\n",
    "    # Analisis penggunaan sepeda berdasarkan hari kerja vs hari libur\n",
    "    st.subheader(\"Penggunaan Sepeda berdasarkan Hari Kerja dan Hari Libur\")\n",
    "    working_day_usage = data_cleaned.groupby('workingday')['cnt'].sum().reset_index()\n",
    "    fig2 = px.bar(working_day_usage, x='workingday', y='cnt', title='Penggunaan Sepeda berdasarkan Hari Kerja (1 = Ya, 0 = Tidak)', labels={'workingday': 'Hari Kerja', 'cnt': 'Total Pengguna'})\n",
    "    st.plotly_chart(fig2)\n",
    "\n",
    "    # Menampilkan informasi lebih lanjut\n",
    "    st.write(\"Total Pengguna Kasual:\", data_cleaned['casual'].sum())\n",
    "    st.write(\"Total Pengguna Terdaftar:\", data_cleaned['registered'].sum())\n",
    "\n",
    "except Exception as e:\n",
    "    st.error(f\"Terjadi kesalahan saat melakukan EDA: {e}\")\n",
    "\n"
   ]
  },
  {
   "cell_type": "markdown",
   "metadata": {
    "id": "th_Lzl2Fkj9O"
   },
   "source": [
    "**Insight:**\n",
    "- xxx\n",
    "- xxx"
   ]
  },
  {
   "cell_type": "markdown",
   "metadata": {
    "id": "zsyZjqak8DC2"
   },
   "source": [
    "## Visualization & Explanatory Analysis"
   ]
  },
  {
   "cell_type": "markdown",
   "metadata": {
    "id": "HZxOiQ6n8DC2"
   },
   "source": [
    "### Pertanyaan 1:"
   ]
  },
  {
   "cell_type": "code",
   "execution_count": 141,
   "metadata": {
    "id": "1swJUdAD8DC2"
   },
   "outputs": [
    {
     "name": "stderr",
     "output_type": "stream",
     "text": [
      "2024-10-05 22:11:51.911 Thread 'MainThread': missing ScriptRunContext! This warning can be ignored when running in bare mode.\n",
      "2024-10-05 22:11:51.911 Thread 'MainThread': missing ScriptRunContext! This warning can be ignored when running in bare mode.\n"
     ]
    }
   ],
   "source": [
    "# Pastikan Anda sudah memuat data dan membersihkannya sebelum bagian ini\n",
    "\n",
    "# 6. Clustering\n",
    "try:\n",
    "    # Pilih fitur yang relevan untuk clustering\n",
    "    features = data_cleaned[['temp', 'hum', 'windspeed', 'season']]  # Pastikan data_cleaned sudah terdefinisi\n",
    "\n",
    "    # One-hot encoding untuk season (musim)\n",
    "    features = pd.get_dummies(features, columns=['season'], drop_first=True)\n",
    "\n",
    "    # Normalisasi fitur (jika perlu)\n",
    "    from sklearn.preprocessing import StandardScaler\n",
    "    scaler = StandardScaler()\n",
    "    features_scaled = scaler.fit_transform(features)\n",
    "\n",
    "    # Terapkan metode clustering (contoh: KMeans)\n",
    "    from sklearn.cluster import KMeans\n",
    "    kmeans = KMeans(n_clusters=3)\n",
    "    features['cluster'] = kmeans.fit_predict(features_scaled)\n",
    "\n",
    "    # Menampilkan hasil clustering\n",
    "    st.write(\"Hasil Clustering:\")\n",
    "    st.write(features.head())\n",
    "\n",
    "except Exception as e:\n",
    "    st.error(f\"Terjadi kesalahan saat melakukan clustering: {e}\")\n"
   ]
  },
  {
   "cell_type": "markdown",
   "metadata": {
    "id": "DgHI7CiU8DC2"
   },
   "source": [
    "### Pertanyaan 2:"
   ]
  },
  {
   "cell_type": "code",
   "execution_count": 142,
   "metadata": {
    "id": "Go0lCsvO8DC2"
   },
   "outputs": [
    {
     "name": "stderr",
     "output_type": "stream",
     "text": [
      "2024-10-05 22:11:52.079 Thread 'MainThread': missing ScriptRunContext! This warning can be ignored when running in bare mode.\n",
      "2024-10-05 22:11:52.079 Thread 'MainThread': missing ScriptRunContext! This warning can be ignored when running in bare mode.\n",
      "2024-10-05 22:11:52.086 Thread 'MainThread': missing ScriptRunContext! This warning can be ignored when running in bare mode.\n",
      "2024-10-05 22:11:52.086 Thread 'MainThread': missing ScriptRunContext! This warning can be ignored when running in bare mode.\n"
     ]
    }
   ],
   "source": [
    "# Visualisasi Jumlah Penyewaan per Musim\n",
    "st.subheader(\"Visualisasi Jumlah Penyewaan per Musim\")\n",
    "\n",
    "try:\n",
    "    # Pastikan data_cleaned sudah terdefinisi\n",
    "    if 'season' in data_cleaned.columns and 'cnt' in data_cleaned.columns:\n",
    "        # Mengelompokkan jumlah penyewaan per musim\n",
    "        season_usage = data_cleaned.groupby('season')['cnt'].sum().reset_index()\n",
    "        \n",
    "        # Menggunakan Plotly untuk membuat visualisasi\n",
    "        fig_season = px.bar(season_usage, \n",
    "                            x='season', \n",
    "                            y='cnt', \n",
    "                            title='Jumlah Penyewaan per Musim', \n",
    "                            labels={'season': 'Musim', 'cnt': 'Total Penyewaan'})\n",
    "        \n",
    "        st.plotly_chart(fig_season)\n",
    "    else:\n",
    "        st.error(\"Kolom 'season' atau 'cnt' tidak ditemukan dalam data yang dibersihkan.\")\n",
    "except Exception as e:\n",
    "    st.error(f\"Terjadi kesalahan saat membuat visualisasi: {e}\")\n",
    "\n"
   ]
  },
  {
   "cell_type": "markdown",
   "metadata": {
    "id": "_0-36BDLklRg"
   },
   "source": [
    "**Insight:**\n",
    "- xxx\n",
    "- xxx"
   ]
  },
  {
   "cell_type": "markdown",
   "metadata": {
    "id": "9y4VUsmcYNZ5"
   },
   "source": [
    "## Analisis Lanjutan (Opsional)"
   ]
  },
  {
   "cell_type": "code",
   "execution_count": null,
   "metadata": {
    "id": "iWhnzsJGYUCO"
   },
   "outputs": [],
   "source": []
  },
  {
   "cell_type": "markdown",
   "metadata": {
    "id": "_WeHlCeX8DC2"
   },
   "source": [
    "## Conclusion"
   ]
  },
  {
   "cell_type": "markdown",
   "metadata": {
    "id": "ZTcyR48Y8DC2"
   },
   "source": [
    "- Conclution pertanyaan 1\n",
    "- Conclution pertanyaan 2"
   ]
  }
 ],
 "metadata": {
  "colab": {
   "provenance": []
  },
  "kernelspec": {
   "display_name": "Python 3 (ipykernel)",
   "language": "python",
   "name": "python3"
  },
  "language_info": {
   "codemirror_mode": {
    "name": "ipython",
    "version": 3
   },
   "file_extension": ".py",
   "mimetype": "text/x-python",
   "name": "python",
   "nbconvert_exporter": "python",
   "pygments_lexer": "ipython3",
   "version": "3.9.13"
  }
 },
 "nbformat": 4,
 "nbformat_minor": 1
}
